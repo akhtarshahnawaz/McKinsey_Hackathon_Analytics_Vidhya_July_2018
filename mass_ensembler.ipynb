{
 "cells": [
  {
   "cell_type": "code",
   "execution_count": 6,
   "metadata": {},
   "outputs": [],
   "source": [
    "import pandas as pd\n",
    "import numpy as np\n",
    "import matplotlib.pyplot as plt\n",
    "%matplotlib inline"
   ]
  },
  {
   "cell_type": "code",
   "execution_count": 7,
   "metadata": {},
   "outputs": [],
   "source": [
    "submit_files = [pd.read_csv(\"best_ensemble/csv/eda{}.csv\".format(i)) for i in range(1,11)]\n",
    "submit_files += [pd.read_csv(\"best_ensemble_tid/csv/eda{}.csv\".format(i)) for i in range(1,11)]\n",
    "submit_files += [pd.read_csv(\"best_ensemble_bagged/csv/eda{}.csv\".format(i)) for i in range(1,11)]\n",
    "submit_files += [pd.read_csv(\"best_ensemble_tid_bagged/csv/eda{}.csv\".format(i)) for i in range(1,11)]\n",
    "\n",
    "renewals = [df[\"renewal\"].values for df in submit_files]\n",
    "incentives = [df[\"incentives\"].values for df in submit_files]\n",
    "ids = submit_files[0][\"id\"]"
   ]
  },
  {
   "cell_type": "code",
   "execution_count": 8,
   "metadata": {},
   "outputs": [],
   "source": [
    "incentives = pd.DataFrame(np.array(incentives).T).mean(axis=1)\n",
    "renewals = pd.DataFrame(np.array(renewals).T).rank(pct = True, axis=0).mean(axis=1)"
   ]
  },
  {
   "cell_type": "code",
   "execution_count": 9,
   "metadata": {},
   "outputs": [],
   "source": [
    "submission = pd.DataFrame()\n",
    "submission[\"renewal\"] = renewals\n",
    "submission[\"incentives\"] = incentives\n",
    "submission[\"id\"] = ids\n",
    "submission.to_csv(\"submission/mass_ensemble.csv\", index=False)"
   ]
  },
  {
   "cell_type": "code",
   "execution_count": null,
   "metadata": {},
   "outputs": [],
   "source": []
  }
 ],
 "metadata": {
  "kernelspec": {
   "display_name": "Python 2",
   "language": "python",
   "name": "python2"
  },
  "language_info": {
   "codemirror_mode": {
    "name": "ipython",
    "version": 2
   },
   "file_extension": ".py",
   "mimetype": "text/x-python",
   "name": "python",
   "nbconvert_exporter": "python",
   "pygments_lexer": "ipython2",
   "version": "2.7.14"
  }
 },
 "nbformat": 4,
 "nbformat_minor": 2
}
